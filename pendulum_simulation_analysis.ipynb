{
 "cells": [
  {
   "cell_type": "code",
   "execution_count": 1,
   "metadata": {},
   "outputs": [],
   "source": [
    "import numpy as np\n",
    "import matplotlib.pyplot as plt"
   ]
  },
  {
   "cell_type": "code",
   "execution_count": 43,
   "metadata": {},
   "outputs": [],
   "source": [
    "# Plotting functions\n",
    "\n",
    "def compute_cartesian_coords(theta, L=1.0):\n",
    "    \"\"\"Convierte ángulos theta a coordenadas cartesianas.\"\"\"\n",
    "    x = L * np.sin(theta)\n",
    "    y = -L * np.cos(theta)\n",
    "    return x, y\n",
    "\n",
    "\n",
    "def plot_phase_space(theta, omega, save=False, show=True, imname=\"\"):\n",
    "    \"\"\"Grafica el espacio fase (theta vs omega).\"\"\"\n",
    "    plt.figure(figsize=(8, 6))\n",
    "    plt.plot(theta, omega, label=r\"$\\theta$ vs $\\omega$\", color=\"blue\")\n",
    "    plt.xlabel(r\"$\\theta$ (rad)\")\n",
    "    plt.ylabel(r\"$\\omega$ (rad/s)\")\n",
    "    plt.title(\"Phase Space: θ vs ω\")\n",
    "    plt.grid()\n",
    "    plt.legend()\n",
    "\n",
    "    if save:\n",
    "        plt.savefig(f\"plots/phase_space{imname}.png\", dpi=300)\n",
    "    if show:\n",
    "        plt.show()\n",
    "    plt.close()\n",
    "\n",
    "def plot_theta_time(t, theta, save=False, show=True, imname=\"\"):\n",
    "    \"\"\"Grafica la evolución del ángulo en el tiempo.\"\"\"\n",
    "    plt.figure(figsize=(8, 6))\n",
    "    plt.plot(t, theta, label=\"Theta (rad)\", color=\"blue\")\n",
    "    plt.xlabel(\"Time (s)\")\n",
    "    plt.ylabel(\"Theta (rad)\")\n",
    "    plt.title(\"Pendulum Angle Over Time\")\n",
    "    plt.grid()\n",
    "    plt.legend()\n",
    "    \n",
    "    if save:\n",
    "        plt.savefig(f\"plots/theta_time{imname}.png\", dpi=300)\n",
    "    if show:\n",
    "        plt.show()\n",
    "    plt.close()\n",
    "\n",
    "\n",
    "def plot_energy_time(t, kin, pot, tot, save=False, show=True, imname=\"\"):\n",
    "    \"\"\"Grafica la evolución de la energía en el tiempo.\"\"\"\n",
    "    plt.figure(figsize=(8, 6))\n",
    "    plt.plot(t, kin, label=\"Kinetic Energy\", color=\"orange\")\n",
    "    plt.plot(t, pot, label=\"Potential Energy\", color=\"purple\")\n",
    "    plt.plot(t, tot, label=\"Total Energy\", color=\"black\", linestyle=\"dashed\")\n",
    "    plt.xlabel(\"Time (s)\")\n",
    "    plt.ylabel(\"Energy (J)\")\n",
    "    plt.title(\"System Energy\")\n",
    "    plt.grid()\n",
    "    plt.legend()\n",
    "\n",
    "    if save:\n",
    "        plt.savefig(f\"plots/energy_time{imname}.png\", dpi=300)\n",
    "    if show:\n",
    "        plt.show()\n",
    "    plt.close()\n"
   ]
  },
  {
   "cell_type": "code",
   "execution_count": 3,
   "metadata": {},
   "outputs": [],
   "source": [
    "def load_data(file_path=\"data/data.dat\"):\n",
    "    \"\"\"Carga los datos desde el archivo .dat\"\"\"\n",
    "    data = np.loadtxt(file_path, skiprows=1)\n",
    "    t, theta, omega, E_kin, E_pot, E_tot = data.T\n",
    "    return t, theta, omega, E_kin, E_pot, E_tot"
   ]
  },
  {
   "cell_type": "code",
   "execution_count": 4,
   "metadata": {},
   "outputs": [],
   "source": [
    "# System parameters\n",
    "mass = 1\n",
    "length = 1\n",
    "\n",
    "# Simulation parameters\n",
    "dt = 0.01\n",
    "t_max = 10.0\n",
    "theta0 = np.pi / 3\n",
    "omega0 = 0.3"
   ]
  },
  {
   "cell_type": "markdown",
   "metadata": {},
   "source": [
    "# **Péndulo simple**\n",
    "\n",
    "## Solución Analítica\n",
    "El péndulo simple es un sistema mecánico que consiste en una masa puntual suspendida de un hilo inextensible y sin masa que oscila bajo la influencia de la gravedad. Su ecuación de movimiento se deriva de la segunda ley de Newton o de la ecuación de Euler-Lagrange.\n",
    "\n",
    "### Ecuación de Movimiento\n",
    "\n",
    "La ecuación de movimiento para el péndulo simple se obtiene aplicando la segunda ley de Newton en coordenadas angulares:\n",
    "\n",
    "$$ m l \\frac{d^2\\theta}{dt^2} = -mg \\sin\\theta $$\n",
    "\n",
    "Dividiendo por \\( ml \\), se obtiene la ecuación diferencial:\n",
    "\n",
    "$$ \\frac{d^2\\theta}{dt^2} + \\frac{g}{l} \\sin\\theta = 0 $$\n",
    "\n",
    "Donde:\n",
    "- $\\theta$ es el ángulo de oscilación respecto a la vertical.\n",
    "- $g$ es la aceleración gravitacional.\n",
    "- $l$ es la longitud del péndulo.\n",
    "- $m$ es la masa del péndulo.\n",
    "\n",
    "### Conversión a un Sistema de Primer Orden\n",
    "\n",
    "Para resolver la ecuación diferencial numéricamente, la convertimos en un sistema de primer orden definiendo:\n",
    "\n",
    "$$ \\omega = \\frac{d\\theta}{dt} $$\n",
    "\n",
    "Entonces, la ecuación de segundo orden se reescribe como el siguiente sistema de ecuaciones de primer orden:\n",
    "\n",
    "$$\\frac{d\\theta}{dt} = \\omega $$\n",
    "$$ \\frac{d\\omega}{dt} = -\\frac{g}{l} \\sin\\theta $$\n",
    "\n",
    "Este sistema es adecuado para ser resuelto mediante métodos numéricos como Runge-Kutta de cuarto orden.\n",
    "\n"
   ]
  },
  {
   "cell_type": "code",
   "execution_count": 5,
   "metadata": {},
   "outputs": [],
   "source": [
    "from simple_pendulum import SimplePendulum, Simulator"
   ]
  },
  {
   "cell_type": "code",
   "execution_count": 6,
   "metadata": {},
   "outputs": [
    {
     "name": "stdout",
     "output_type": "stream",
     "text": [
      "Simulación completada. Datos guardados en data/simple_pendulum.dat\n"
     ]
    }
   ],
   "source": [
    "# Data generation\n",
    "simple_pendulum = SimplePendulum(mass, length, theta0, omega0)\n",
    "filename = \"simple_pendulum\"\n",
    "\n",
    "sp_simulator = Simulator(simple_pendulum, filename)\n",
    "sp_simulator.simulate(t_max=t_max, dt=dt)"
   ]
  },
  {
   "cell_type": "code",
   "execution_count": 9,
   "metadata": {},
   "outputs": [],
   "source": [
    "t, theta, omega, E_kin, E_pot, E_tot = load_data(file_path=f\"data/{filename}.dat\")"
   ]
  },
  {
   "cell_type": "code",
   "execution_count": null,
   "metadata": {},
   "outputs": [],
   "source": [
    "plot_phase_space(theta, omega, save=True, show=False, imname=f\"phase_space_{filename}\")\n",
    "plot_energy_time(t, E_kin, E_pot, E_tot, save=True, show=False, imname=f\"energy_{filename}\")"
   ]
  },
  {
   "cell_type": "code",
   "execution_count": 33,
   "metadata": {},
   "outputs": [],
   "source": [
    "from animator import Animator"
   ]
  },
  {
   "cell_type": "code",
   "execution_count": 23,
   "metadata": {},
   "outputs": [
    {
     "name": "stderr",
     "output_type": "stream",
     "text": [
      "c:\\Users\\isaul\\Documents\\python\\computational_physics\\pendulums\\animator.py:62: UserWarning: frames=<bound method Animator.advance_time_step of <animator.Animator object at 0x0000011DFB651640>> which we can infer the length of, did not pass an explicit *save_count* and passed cache_frame_data=True.  To avoid a possibly unbounded cache, frame data caching has been disabled. To suppress this warning either pass `cache_frame_data=False` or `save_count=MAX_FRAMES`.\n",
      "  self.animation = animation.FuncAnimation(\n"
     ]
    },
    {
     "data": {
      "image/png": "[encoded data removed]",
      "text/plain": [
       "<Figure size 640x480 with 1 Axes>"
      ]
     },
     "metadata": {},
     "output_type": "display_data"
    }
   ],
   "source": [
    "animator = Animator(t, theta, draw_trace=False)\n",
    "animator.animate()\n",
    "animator.save_animation(filename=f\"{filename}.gif\")"
   ]
  },
  {
   "cell_type": "markdown",
   "metadata": {},
   "source": [
    "## Análisis de resultados: Péndulo Simple \n",
    "\n",
    "<div style=\"display: flex; justify-content: center; text-align: center;\">\n",
    "    <div style=\"margin: 10px;\">\n",
    "        <img src=\"animations/simple_pendulum.gif\" width=\"50%\">\n",
    "    </div>\n",
    "</div>\n",
    "\n",
    "### Espacio fase\n",
    "\n",
    "<div style=\"display: flex; justify-content: center; text-align: center;\">\n",
    "    <div style=\"margin: 10px;\">\n",
    "        <img src=\"plots/phase_space_simple_pendulum.png\" width=\"50%\">\n",
    "    </div>\n",
    "</div>\n",
    "\n",
    "### Energía\n",
    "\n",
    "<div style=\"display: flex; justify-content: center; text-align: center;\">\n",
    "    <div style=\"margin: 10px;\">\n",
    "        <img src=\"plots/energy_time_simple_pendulum.png\" width=\"50%\">\n",
    "    </div>\n",
    "</div>\n"
   ]
  },
  {
   "cell_type": "markdown",
   "metadata": {},
   "source": [
    "# **Péndulo forzado-amortiguado**\n",
    "\n",
    "## **Solución Analítica**\n",
    "\n",
    "El péndulo forzado es un sistema dinámico clásico que se modela con una ecuación diferencial no lineal. Usaremos la mecánica lagrangiana para obtener la ecuación de movimiento.\n",
    "\n",
    "### **Planteamiento del problema**  \n",
    "Consideremos un péndulo simple de longitud l$ y masa $m$, sometido a una fuerza externa periódica $F(t)$ y a un término de amortiguamiento proporcional a la velocidad angular.  \n",
    "\n",
    "#### Parámetros del sistema:\n",
    "- $\\theta$ : Ángulo del péndulo respecto a la vertical.\n",
    "- $l$ : Longitud de la cuerda.\n",
    "- $m$ : Masa puntual en el extremo del péndulo.\n",
    "- $g$ : Aceleración gravitatoria.\n",
    "- $\\gamma$ : Coeficiente de amortiguamiento (proporcional a \\( \\dot{\\theta} \\)).\n",
    "- $F_0$ : Amplitud de la fuerza externa.\n",
    "- $\\omega$S : Frecuencia de la fuerza externa.\n",
    "\n",
    "La ecuación de la fuerza externa es:\n",
    "$$F(t) = F_0 \\cos(\\omega t)$$\n",
    "\n",
    "donde $F_0$ es la amplitud y $\\omega$ es la frecuencia.\n",
    "\n",
    "\n",
    "### **Energía del sistema**\n",
    "\n",
    "#### Energía cinética  \n",
    "El péndulo tiene velocidad angular $\\dot{\\theta}$, y su energía cinética es:\n",
    "$$T = \\frac{1}{2} m v^2 $$\n",
    "\n",
    "La velocidad del punto de masa es $v = l \\dot{\\theta}$, por lo que:\n",
    "$$T = \\frac{1}{2} m (l \\dot{\\theta})^2 = \\frac{1}{2} m l^2 \\dot{\\theta}^2$$\n",
    "\n",
    "#### Energía potencial  \n",
    "La altura de la masa respecto a la posición de equilibrio es:\n",
    "$$h = l(1 - \\cos\\theta)\n",
    "$$\n",
    "por lo que la energía potencial gravitatoria es:\n",
    "$$U = mg l (1 - \\cos\\theta)$$\n",
    "\n",
    "### **Lagrangiano del sistema**  \n",
    "El lagrangiano se define como:\n",
    "$$L = T - U\n",
    "$$\n",
    "Sustituyendo las expresiones anteriores:\n",
    "$$ L = \\frac{1}{2} m l^2 \\dot{\\theta}^2 - mg l (1 - \\cos\\theta) $$\n",
    "\n",
    "### **Ecuación de Lagrange**  \n",
    "La ecuación de Euler-Lagrange es:\n",
    "$$\\frac{d}{dt} \\left( \\frac{\\partial L}{\\partial \\dot{\\theta}} \\right) - \\frac{\\partial L}{\\partial \\theta} = Q_{\\text{nc}}\n",
    "$$\n",
    "\n",
    "Calculamos las derivadas parciales:\n",
    "\n",
    "1. Derivada con respecto a \\( $\\dot{\\theta}$ \\):\n",
    "$$ \\frac{\\partial L}{\\partial \\dot{\\theta}} = m l^2 \\dot{\\theta} $$   \n",
    "$$ \\frac{d}{dt} \\left( m l^2 \\dot{\\theta} \\right) = m l^2 \\ddot{\\theta} $$\n",
    "\n",
    "2. Derivada con respecto a \\( $\\theta$ \\):\n",
    "$$ \\frac{\\partial L}{\\partial \\theta} = mg l \\sin\\theta $$\n",
    "\n",
    "El sistema está sujeto a dos fuerzas no conservativas:\n",
    "\n",
    "- **Amortiguamiento viscoso**, proporcional a $\\dot{\\theta}$, con un término de la forma  $-b \\dot{\\theta}$.\n",
    "- **Fuerza externa periódica**, representada como $F_0 \\cos(\\omega t)$.\n",
    "\n",
    "El término de fuerzas no conservativas es:\n",
    "$$Q_{\\text{nc}} = - b \\dot{\\theta} + F_0 \\cos(\\omega t) $$\n",
    "\n",
    "Entonces, la ecuación de Euler-Lagrange nos da:\n",
    "$$ m l^2 \\ddot{\\theta} + b \\dot{\\theta} + mg l \\sin\\theta = F_0 \\cos(\\omega t) $$\n",
    "\n",
    "Dividiendo entre \\( $m l^2$ \\):\n",
    "$$\\ddot{\\theta} + \\frac{b}{m l^2} \\dot{\\theta} + \\frac{g}{l} \\sin\\theta = \\frac{F_0}{m l^2} \\cos(\\omega t) $$\n",
    "Definiendo:\n",
    "- **Frecuencia natural del péndulo** $\\omega_0^2 = \\frac{g}{l}$,\n",
    "- **Término de amortiguamiento** $\\gamma = \\frac{b}{m l^2}$,\n",
    "- **Aceleración normalizada de la fuerza externa** $f = \\frac{F_0}{m l^2} $,\n",
    "\n",
    "obtenemos la ecuación de movimiento final:\n",
    "\n",
    "$$\\ddot{\\theta} + \\gamma \\dot{\\theta} + \\omega_0^2 \\sin\\theta = f \\cos(\\omega t)\n",
    "$$\n",
    "Esta ecuación no lineal describe el movimiento del péndulo forzado y amortiguado.\n",
    "\n",
    "---"
   ]
  },
  {
   "cell_type": "markdown",
   "metadata": {},
   "source": [
    "### Generación de datos: **Resonancia**\n",
    "\n",
    "Para estudiar la **resonancia** en el péndulo forzado y amortiguado, consideramos simulaciones variando la frecuencia de la fuerza externa $\\omega_f$ en relación con la **frecuencia natural del péndulo**:  \n",
    "\n",
    "$$ \\omega_0 = \\sqrt{\\frac{g}{l}} $$\n",
    "\n",
    "Con $g = 9.81$ m/s² y  $l = 1.0$ m, entonces:\n",
    "\n",
    "$$\\omega_0 \\approx 3.13 \\text{ rad/s} $$\n",
    "\n",
    "Tenemos los siguientes escenarios para comparar:\n",
    "\n",
    "| **Caso**          | **$\\omega_f$** | **Descripción** |\n",
    "|------------------|---------------|----------------|\n",
    "| **Baja frecuencia**  | \\( 1.0 \\)     | Oscilaciones lentas, la fuerza externa tiene poco efecto. |\n",
    "| **Cercano a la resonancia** | \\( 3.1 \\)     | La amplitud crece significativamente (máxima respuesta). |\n",
    "| **Alta frecuencia** | \\( 6.0 \\)     | La respuesta del péndulo es menor, la inercia domina. |\n",
    "\n",
    "**Otros parámetros fijos para todas las simulaciones**:\n",
    "- **Masa:** \\( m = 1.0 \\) kg  \n",
    "- **Longitud:** \\( l = 1.0 \\) m  \n",
    "- **Ángulo inicial:** \\( \\theta_0 = \\pi/4 \\) rad  \n",
    "- **Velocidad angular inicial:** \\( \\omega_0 = 0.0 \\) rad/s  \n",
    "- **Amplitud de la fuerza externa:** \\( A = 1.0 \\)  \n",
    "- **Coeficiente de amortiguamiento:** \\( \\gamma = 0.1 \\)  \n",
    "- **Tiempo total:** \\( t_{\\max} = 20 \\) s  \n",
    "- **Paso de tiempo:** \\( dt = 0.01 \\) s  \n"
   ]
  },
  {
   "cell_type": "code",
   "execution_count": 37,
   "metadata": {},
   "outputs": [
    {
     "name": "stdout",
     "output_type": "stream",
     "text": [
      "Simulación completada. Datos guardados en data/low_freq.dat\n",
      "Simulación completada. Datos guardados en data/near_resonance.dat\n",
      "Simulación completada. Datos guardados en data/high_freq.dat\n"
     ]
    }
   ],
   "source": [
    "!python forced_pendulum_system.py --omega_f 1.0 --filename low_freq\n",
    "!python forced_pendulum_system.py --omega_f 3.1 --filename near_resonance\n",
    "!python forced_pendulum_system.py --omega_f 6.0 --filename high_freq"
   ]
  },
  {
   "cell_type": "code",
   "execution_count": 47,
   "metadata": {},
   "outputs": [
    {
     "name": "stderr",
     "output_type": "stream",
     "text": [
      "c:\\Users\\isaul\\Documents\\python\\computational_physics\\pendulums\\animator.py:62: UserWarning: frames=<bound method Animator.advance_time_step of <animator.Animator object at 0x0000011D80247470>> which we can infer the length of, did not pass an explicit *save_count* and passed cache_frame_data=True.  To avoid a possibly unbounded cache, frame data caching has been disabled. To suppress this warning either pass `cache_frame_data=False` or `save_count=MAX_FRAMES`.\n",
      "  self.animation = animation.FuncAnimation(\n"
     ]
    },
    {
     "data": {
      "image/png": "[encoded data removed]",
      "text/plain": [
       "<Figure size 640x480 with 1 Axes>"
      ]
     },
     "metadata": {},
     "output_type": "display_data"
    }
   ],
   "source": [
    "filename = \"low_freq\"\n",
    "t, theta, omega, E_kin, E_pot, E_tot = load_data(file_path=f\"data/{filename}.dat\")\n",
    "plot_phase_space(theta, omega, save=True, show=False, imname=f\"phase_space_{filename}\")\n",
    "plot_energy_time(t, E_kin, E_pot, E_tot, save=True, show=False, imname=f\"energy_{filename}\")\n",
    "plot_theta_time(t, theta, save=True, show=False, imname=f\"theta_{filename}\")\n",
    "\n",
    "animator = Animator(t, theta, draw_trace=False)\n",
    "animator.animate()\n",
    "animator.save_animation(filename=f\"{filename}.gif\")"
   ]
  },
  {
   "cell_type": "code",
   "execution_count": 48,
   "metadata": {},
   "outputs": [
    {
     "name": "stderr",
     "output_type": "stream",
     "text": [
      "c:\\Users\\isaul\\Documents\\python\\computational_physics\\pendulums\\animator.py:62: UserWarning: frames=<bound method Animator.advance_time_step of <animator.Animator object at 0x0000011D80869A00>> which we can infer the length of, did not pass an explicit *save_count* and passed cache_frame_data=True.  To avoid a possibly unbounded cache, frame data caching has been disabled. To suppress this warning either pass `cache_frame_data=False` or `save_count=MAX_FRAMES`.\n",
      "  self.animation = animation.FuncAnimation(\n"
     ]
    },
    {
     "data": {
      "image/png": "[encoded data removed]",
      "text/plain": [
       "<Figure size 640x480 with 1 Axes>"
      ]
     },
     "metadata": {},
     "output_type": "display_data"
    }
   ],
   "source": [
    "filename = \"near_resonance\"\n",
    "t, theta, omega, E_kin, E_pot, E_tot = load_data(file_path=f\"data/{filename}.dat\")\n",
    "plot_phase_space(theta, omega, save=True, show=False, imname=f\"phase_space_{filename}\")\n",
    "plot_energy_time(t, E_kin, E_pot, E_tot, save=True, show=False, imname=f\"energy_{filename}\")\n",
    "plot_theta_time(t, theta, save=True, show=False, imname=f\"theta_{filename}\")\n",
    "\n",
    "animator = Animator(t, theta, draw_trace=False)\n",
    "animator.animate()\n",
    "animator.save_animation(filename=f\"{filename}.gif\")"
   ]
  },
  {
   "cell_type": "code",
   "execution_count": 49,
   "metadata": {},
   "outputs": [
    {
     "name": "stderr",
     "output_type": "stream",
     "text": [
      "c:\\Users\\isaul\\Documents\\python\\computational_physics\\pendulums\\animator.py:62: UserWarning: frames=<bound method Animator.advance_time_step of <animator.Animator object at 0x0000011D80FAABA0>> which we can infer the length of, did not pass an explicit *save_count* and passed cache_frame_data=True.  To avoid a possibly unbounded cache, frame data caching has been disabled. To suppress this warning either pass `cache_frame_data=False` or `save_count=MAX_FRAMES`.\n",
      "  self.animation = animation.FuncAnimation(\n"
     ]
    },
    {
     "data": {
      "image/png": "[encoded data removed]",
      "text/plain": [
       "<Figure size 640x480 with 1 Axes>"
      ]
     },
     "metadata": {},
     "output_type": "display_data"
    }
   ],
   "source": [
    "filename = \"high_freq\"\n",
    "t, theta, omega, E_kin, E_pot, E_tot = load_data(file_path=f\"data/{filename}.dat\")\n",
    "plot_phase_space(theta, omega, save=True, show=False, imname=f\"phase_space_{filename}\")\n",
    "plot_energy_time(t, E_kin, E_pot, E_tot, save=True, show=False, imname=f\"energy_{filename}\")\n",
    "plot_theta_time(t, theta, save=True, show=False, imname=f\"theta_{filename}\")\n",
    "\n",
    "animator = Animator(t, theta, draw_trace=False)\n",
    "animator.animate()\n",
    "animator.save_animation(filename=f\"{filename}.gif\")"
   ]
  },
  {
   "cell_type": "markdown",
   "metadata": {},
   "source": [
    "## Análisis de resultados: Resonancia\n",
    "\n",
    "El objetivo de este análisis es estudiar el comportamiento del péndulo forzado y amortiguado bajo diferentes frecuencias de excitación externa. Específicamente, se comparan tres casos:\n",
    "\n",
    "- Frecuencia baja ($\\omega_f < \\omega_0$): El péndulo oscila con pequeña amplitud y sigue el forzamiento con un retraso notable.\n",
    "\n",
    "- Frecuencia cercana a la resonancia ($\\omega_f \\approx \\omega_0$): Se observa una amplificación significativa de las oscilaciones, característica de la resonancia.\n",
    "\n",
    "- Frecuencia alta ($\\omega_f > \\omega_0$): El péndulo apenas responde a la excitación debido a la rápida variación de la fuerza externa.\n",
    "\n",
    "### Animaciones del movimiento del péndulo\n",
    "\n",
    "<div style=\"display: flex; justify-content: center; text-align: center;\">\n",
    "    <div style=\"margin: 10px;\">\n",
    "        <img src=\"animations/low_freq.gif\" width=\"100%\">\n",
    "    </div>\n",
    "    <div style=\"margin: 10px;\">\n",
    "        <img src=\"animations/near_resonance.gif\" width=\"100%\">\n",
    "    </div>\n",
    "        <div style=\"margin: 10px;\">\n",
    "        <img src=\"animations/high_freq.gif\" width=\"100%\">\n",
    "    </div>\n",
    "\n",
    "</div>\n",
    "\n",
    "### Evolución temporal de los ángulos\n",
    "\n",
    "Como se observa en las siguientes gráficas, la amplitud de las oscilaciones es considerablemente mayor cuando la frecuencia externa está cerca de la resonancia. Para frecuencias bajas y altas, la respuesta es más limitada.\n",
    "\n",
    "<div style=\"display: flex; justify-content: center; text-align: center;\">\n",
    "    <div style=\"margin: 10px;\">\n",
    "        <img src=\"plots/theta_timetheta_low_freq.png\" width=\"100%\">\n",
    "    </div>\n",
    "    <div style=\"margin: 10px;\">\n",
    "        <img src=\"plots/theta_timetheta_near_resonance.png\" width=\"100%\">\n",
    "    </div>\n",
    "        <div style=\"margin: 10px;\">\n",
    "        <img src=\"plots/theta_timetheta_high_freq.png\" width=\"100%\">\n",
    "    </div>\n",
    "</div>\n",
    "\n",
    "### Espacio fase\n",
    "\n",
    "El espacio fase ($\\theta$ vs. $\\omega$) revela información clave sobre la dinámica del sistema. En la resonancia, la trayectoria es más amplia, reflejando un mayor intercambio de energía.\n",
    "\n",
    "<div style=\"display: flex; justify-content: center; text-align: center;\">\n",
    "    <div style=\"margin: 10px;\">\n",
    "        <img src=\"plots/phase_spacephase_space_low_freq.png\" width=\"100%\">\n",
    "    </div>\n",
    "    <div style=\"margin: 10px;\">\n",
    "        <img src=\"plots/phase_spacephase_space_near_resonance.png\" width=\"100%\">\n",
    "    </div>\n",
    "        <div style=\"margin: 10px;\">\n",
    "        <img src=\"plots/phase_spacephase_space_high_freq.png\" width=\"100%\">\n",
    "    </div>\n",
    "</div>\n",
    "\n",
    "### Energía\n",
    "\n",
    "<div style=\"display: flex; justify-content: center; text-align: center;\">\n",
    "    <div style=\"margin: 10px;\">\n",
    "        <img src=\"plots/energy_timeenergy_low_freq.png\" width=\"100%\">\n",
    "    </div>\n",
    "    <div style=\"margin: 10px;\">\n",
    "        <img src=\"plots/energy_timeenergy_near_resonance.png\" width=\"100%\">\n",
    "    </div>\n",
    "        <div style=\"margin: 10px;\">\n",
    "        <img src=\"plots/energy_timeenergy_high_freq.png\" width=\"100%\">\n",
    "    </div>\n",
    "</div>\n",
    "\n",
    "En la resonancia, la energía total del sistema muestra oscilaciones amplificadas en comparación con los otros casos. Esto confirma que la energía suministrada por la fuerza externa se transfiere eficientemente al péndulo en la frecuencia de resonancia.\n",
    "\n",
    "### Conclusiones\n",
    "\n",
    "- En la frecuencia de resonancia ($\\omega_f \\approx \\omega_0$), el péndulo responde con una gran amplitud, alcanzando el máximo intercambio de energía con la fuente externa.\n",
    "\n",
    "- Para frecuencias bajas, el péndulo sigue la fuerza externa con una amplitud reducida.\n",
    "\n",
    "- A frecuencias altas, la respuesta es débil porque la oscilación forzada cambia demasiado rápido para afectar significativamente al sistema.\n",
    "\n",
    "- El análisis del espacio fase y de la energía respalda la predicción teórica del fenómeno de resonancia en sistemas oscilatorios amortiguados y forzados."
   ]
  },
  {
   "cell_type": "markdown",
   "metadata": {},
   "source": [
    "# **Péndulo elástico**\n",
    "\n",
    "## **Solución Analítica**\n",
    "\n",
    "### **Planteamiento del problema**\n",
    "Se considera un **péndulo elástico**, es decir, una masa $m$ unida a un resorte de constante elástica $k$ y longitud natural $\\ell_0$, colgado de un punto fijo. La masa puede oscilar tanto en dirección radial (longitud del resorte) como angular (movimiento pendular). Se asume que el sistema está restringido a un movimiento en un plano vertical y sin fricción.\n",
    "\n",
    "El objetivo es obtener las ecuaciones de movimiento mediante la formulación de Lagrange.\n",
    "\n",
    "---\n",
    "\n",
    "### **Definición de coordenadas generalizadas**\n",
    "Para describir el sistema, usamos coordenadas polares con:\n",
    "- \\( $r$ \\): longitud del resorte (variable debido a la elasticidad)\n",
    "- \\( $\\theta$ \\): ángulo de oscilación del péndulo\n",
    "\n",
    "Las coordenadas cartesianas de la masa son:\n",
    "$$\n",
    "x = r \\sin\\theta, \\quad y = -r \\cos\\theta\n",
    "$$\n",
    "donde \\( $y$ \\) es negativo porque el resorte está colgado desde un punto fijo en el origen.\n",
    "\n",
    "---\n",
    "\n",
    "### **Energías del sistema**\n",
    "#### **Energía cinética**\n",
    "La energía cinética de la masa es:\n",
    "$$\n",
    "T = \\frac{1}{2} m \\left( \\dot{x}^2 + \\dot{y}^2 \\right)\n",
    "$$\n",
    "\n",
    "Calculamos las velocidades:\n",
    "$$\n",
    "\\dot{x} = \\dot{r} \\sin\\theta + r \\dot{\\theta} \\cos\\theta\n",
    "$$\n",
    "$$\n",
    "\\dot{y} = -\\dot{r} \\cos\\theta + r \\dot{\\theta} \\sin\\theta\n",
    "$$\n",
    "\n",
    "Por lo tanto, la energía cinética se expresa como:\n",
    "$$\n",
    "T = \\frac{1}{2} m \\left( \\dot{r}^2 + r^2 \\dot{\\theta}^2 \\right)\n",
    "$$\n",
    "\n",
    "#### **Energía potencial**\n",
    "La energía potencial incluye dos términos: \n",
    "1. **Elástica** del resorte:\n",
    "   $$\n",
    "   U_{\\text{el}} = \\frac{1}{2} k (r - \\ell_0)^2\n",
    "   $$\n",
    "2. **Gravitatoria**:\n",
    "   $$\n",
    "   U_{\\text{g}} = mg r \\cos\\theta\n",
    "   $$\n",
    "\n",
    "La energía potencial total es:\n",
    "$$\n",
    "U = \\frac{1}{2} k (r - \\ell_0)^2 + mg r \\cos\\theta\n",
    "$$\n",
    "\n",
    "---\n",
    "\n",
    "### **Función Lagrangiana**\n",
    "La lagrangiana está dada por:\n",
    "$$\n",
    "L = T - U\n",
    "$$\n",
    "\n",
    "Sustituyendo las expresiones obtenidas:\n",
    "$$\n",
    "L = \\frac{1}{2} m \\left( \\dot{r}^2 + r^2 \\dot{\\theta}^2 \\right) - \\left( \\frac{1}{2} k (r - \\ell_0)^2 + mg r \\cos\\theta \\right)\n",
    "$$\n",
    "\n",
    "---\n",
    "\n",
    "### **Ecuaciones de Lagrange**\n",
    "Las ecuaciones de Euler-Lagrange son:\n",
    "\n",
    "$$\n",
    "\\frac{d}{dt} \\left( \\frac{\\partial L}{\\partial \\dot{q}_i} \\right) - \\frac{\\partial L}{\\partial q_i} = 0\n",
    "$$\n",
    "\n",
    "para \\( $q_1 = r$ \\) y \\( $q_2 = \\theta$ \\).\n",
    "\n",
    "#### **Ecuación para \\( $r$ \\)**\n",
    "$$\n",
    "\\frac{d}{dt} (m \\dot{r}) - \\left[ m r \\dot{\\theta}^2 - k (r - \\ell_0) - mg \\cos\\theta \\right] = 0\n",
    "$$\n",
    "\n",
    "$$\n",
    "m \\ddot{r} = m r \\dot{\\theta}^2 - k (r - \\ell_0) - mg \\cos\\theta\n",
    "$$\n",
    "\n",
    "#### **Ecuación para \\( $\\theta$ \\)**\n",
    "$$\n",
    "\\frac{d}{dt} (m r^2 \\dot{\\theta}) - (- mg r \\sin\\theta) = 0\n",
    "$$\n",
    "\n",
    "$$\n",
    "m r^2 \\ddot{\\theta} + 2m r \\dot{r} \\dot{\\theta} + mg r \\sin\\theta = 0\n",
    "$$\n",
    "\n",
    "---\n",
    "\n",
    "Las ecuaciones de movimiento para el péndulo elástico son:\n",
    "\n",
    "$$\n",
    "\\ddot{r} = r \\dot{\\theta}^2 - \\frac{k}{m} (r - \\ell_0) - g \\cos\\theta\n",
    "$$\n",
    "\n",
    "$$\n",
    "\\ddot{\\theta} + \\frac{2}{r} \\dot{r} \\dot{\\theta} + \\frac{g}{r} \\sin\\theta = 0\n",
    "$$\n",
    "\n",
    "Estas ecuaciones describen la evolución del sistema bajo la acción de la gravedad y la elasticidad del resorte. Se pueden resolver numéricamente para analizar el comportamiento del péndulo elástico.\n"
   ]
  },
  {
   "cell_type": "code",
   "execution_count": 66,
   "metadata": {},
   "outputs": [],
   "source": [
    "def load_elastic_data(file_path=\"data/data.dat\"):\n",
    "    \"\"\"Carga los datos desde el archivo .dat\"\"\"\n",
    "    data = np.loadtxt(file_path, skiprows=1)\n",
    "    t, theta, omega, l, v, E_kin, E_pot, E_elastic, E_tot = data.T\n",
    "    return t, theta, omega, l, v, E_kin, E_pot, E_elastic, E_tot"
   ]
  },
  {
   "cell_type": "code",
   "execution_count": 67,
   "metadata": {},
   "outputs": [
    {
     "name": "stdout",
     "output_type": "stream",
     "text": [
      "Simulación completada. Datos guardados en data/elastic_A.dat\n",
      "Simulación completada. Datos guardados en data/elastic_B.dat\n",
      "Simulación completada. Datos guardados en data/elastic_C.dat\n"
     ]
    }
   ],
   "source": [
    "!python elastic_pendulum_system.py --theta0 0.15 --l_init 1.1 --filename elastic_A\n",
    "!python elastic_pendulum_system.py --theta0 0.5 --l_init 1.3 --filename elastic_B\n",
    "!python elastic_pendulum_system.py --theta0 1.0 --l_init 1.5 --filename elastic_C"
   ]
  },
  {
   "cell_type": "code",
   "execution_count": 71,
   "metadata": {},
   "outputs": [],
   "source": [
    "filename = \"elastic_A\"\n",
    "t, theta, omega, l, v, E_kin, E_pot, E_elastic, E_tot = load_elastic_data(file_path=f\"data/{filename}.dat\")\n",
    "plot_phase_space(theta, omega, save=True, show=False, imname=f\"phase_space_{filename}\")\n",
    "plot_energy_time(t, E_kin, E_pot, E_tot, save=True, show=False, imname=f\"energy_{filename}\")\n",
    "plot_theta_time(t, theta, save=True, show=False, imname=f\"theta_{filename}\")\n",
    "\n",
    "# animator = Animator(t, theta, draw_trace=False)\n",
    "# animator.animate()\n",
    "# animator.save_animation(filename=f\"{filename}.gif\")"
   ]
  },
  {
   "cell_type": "code",
   "execution_count": 72,
   "metadata": {},
   "outputs": [],
   "source": [
    "filename = \"elastic_B\"\n",
    "t, theta, omega, l, v, E_kin, E_pot, E_elastic, E_tot = load_elastic_data(file_path=f\"data/{filename}.dat\")\n",
    "plot_phase_space(theta, omega, save=True, show=False, imname=f\"phase_space_{filename}\")\n",
    "plot_energy_time(t, E_kin, E_pot, E_tot, save=True, show=False, imname=f\"energy_{filename}\")\n",
    "plot_theta_time(t, theta, save=True, show=False, imname=f\"theta_{filename}\")\n",
    "\n",
    "# animator = Animator(t, theta, draw_trace=False)\n",
    "# animator.animate()\n",
    "# animator.save_animation(filename=f\"{filename}.gif\")"
   ]
  },
  {
   "cell_type": "code",
   "execution_count": 73,
   "metadata": {},
   "outputs": [],
   "source": [
    "filename = \"elastic_C\"\n",
    "t, theta, omega, l, v, E_kin, E_pot, E_elastic, E_tot = load_elastic_data(file_path=f\"data/{filename}.dat\")\n",
    "plot_phase_space(theta, omega, save=True, show=False, imname=f\"phase_space_{filename}\")\n",
    "plot_energy_time(t, E_kin, E_pot, E_tot, save=True, show=False, imname=f\"energy_{filename}\")\n",
    "plot_theta_time(t, theta, save=True, show=False, imname=f\"theta_{filename}\")\n",
    "\n",
    "# animator = Animator(t, theta, draw_trace=False)\n",
    "# animator.animate()\n",
    "# animator.save_animation(filename=f\"{filename}.gif\")"
   ]
  },
  {
   "cell_type": "markdown",
   "metadata": {},
   "source": [
    "## Análisis de resultados:\n",
    "\n",
    "### Animaciones del movimiento del péndulo\n",
    "\n",
    "<!---\n",
    "\n",
    "<div style=\"display: flex; justify-content: center; text-align: center;\">\n",
    "    <div style=\"margin: 10px;\">\n",
    "        <img src=\"animations/low_freq.gif\" width=\"100%\">\n",
    "    </div>\n",
    "    <div style=\"margin: 10px;\">\n",
    "        <img src=\"animations/near_resonance.gif\" width=\"100%\">\n",
    "    </div>\n",
    "        <div style=\"margin: 10px;\">\n",
    "        <img src=\"animations/high_freq.gif\" width=\"100%\">\n",
    "    </div>\n",
    "\n",
    "</div>\n",
    "--->\n",
    "\n",
    "\n",
    "### Evolución temporal de los ángulos\n",
    "\n",
    "<div style=\"display: flex; justify-content: center; text-align: center;\">\n",
    "    <div style=\"margin: 10px;\">\n",
    "        <img src=\"plots/theta_timetheta_elastic_A.png\" width=\"100%\">\n",
    "    </div>\n",
    "    <div style=\"margin: 10px;\">\n",
    "        <img src=\"plots/theta_timetheta_elastic_B.png\" width=\"100%\">\n",
    "    </div>\n",
    "    <div style=\"margin: 10px;\">\n",
    "        <img src=\"plots/theta_timetheta_elastic_C.png\" width=\"100%\">\n",
    "    </div>\n",
    "</div>\n",
    "\n",
    "### Espacio fase\n",
    "\n",
    "\n",
    "<div style=\"display: flex; justify-content: center; text-align: center;\">\n",
    "    <div style=\"margin: 10px;\">\n",
    "        <img src=\"plots/phase_spacephase_space_elastic_A.png\" width=\"100%\">\n",
    "    </div>\n",
    "    <div style=\"margin: 10px;\">\n",
    "        <img src=\"plots/phase_spacephase_space_elastic_B.png\" width=\"100%\">\n",
    "    </div>\n",
    "    <div style=\"margin: 10px;\">\n",
    "        <img src=\"plots/phase_spacephase_space_elastic_C.png\" width=\"100%\">\n",
    "    </div>\n",
    "</div>\n",
    "\n",
    "### Energía\n",
    "\n",
    "<div style=\"display: flex; justify-content: center; text-align: center;\">\n",
    "    <div style=\"margin: 10px;\">\n",
    "        <img src=\"plots/energy_timeenergy_elastic_A.png\" width=\"100%\">\n",
    "    </div>\n",
    "        <div style=\"margin: 10px;\">\n",
    "        <img src=\"plots/energy_timeenergy_elastic_B.png\" width=\"100%\">\n",
    "    </div>\n",
    "    <div style=\"margin: 10px;\">\n",
    "        <img src=\"plots/energy_timeenergy_elastic_C.png\" width=\"100%\">\n",
    "    </div>\n",
    "\n",
    "</div>\n",
    "\n",
    "### Conclusiones\n"
   ]
  },
  {
   "cell_type": "markdown",
   "metadata": {},
   "source": []
  }
 ],
 "metadata": {
  "kernelspec": {
   "display_name": "Python (virt_imp)",
   "language": "python",
   "name": "virt_imp"
  },
  "language_info": {
   "codemirror_mode": {
    "name": "ipython",
    "version": 3
   },
   "file_extension": ".py",
   "mimetype": "text/x-python",
   "name": "python",
   "nbconvert_exporter": "python",
   "pygments_lexer": "ipython3",
   "version": "3.12.4"
  }
 },
 "nbformat": 4,
 "nbformat_minor": 2
}
