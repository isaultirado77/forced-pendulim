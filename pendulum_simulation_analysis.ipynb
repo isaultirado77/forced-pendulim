{
 "cells": [
  {
   "cell_type": "code",
   "execution_count": 1,
   "metadata": {},
   "outputs": [],
   "source": [
    "import numpy as np\n",
    "import matplotlib.pyplot as plt"
   ]
  },
  {
   "cell_type": "code",
   "execution_count": 2,
   "metadata": {},
   "outputs": [],
   "source": [
    "# Plotting functions\n",
    "\n",
    "def compute_cartesian_coords(theta, L=1.0):\n",
    "    \"\"\"Convierte ángulos theta a coordenadas cartesianas.\"\"\"\n",
    "    x = L * np.sin(theta)\n",
    "    y = -L * np.cos(theta)\n",
    "    return x, y\n",
    "\n",
    "\n",
    "def plot_trajectory(theta, omega, L=1.0, save=False, show=True, imname=\"\"):\n",
    "    \"\"\"Grafica la trayectoria de un sistema pendular en 2D.\"\"\"\n",
    "    x, y = compute_cartesian_coords(theta, L)\n",
    "\n",
    "    plt.figure(figsize=(8, 6))\n",
    "    plt.plot(x[0], y[0], \"ro\", label=\"Initial point\")  \n",
    "    plt.plot(x[-1], y[-1], \"gx\", label=\"Final point\")\n",
    "    plt.plot(x, y, label=\"Trajectory\")\n",
    "    plt.title(\"Pendulum Trajectory\")\n",
    "    plt.xlabel(\"Position X (m)\")\n",
    "    plt.ylabel(\"Position Y (m)\")\n",
    "    plt.grid()\n",
    "    plt.legend()\n",
    "\n",
    "    if save:\n",
    "        plt.savefig(f\"plots/trajectory{imname}.png\", dpi=300)\n",
    "    if show:\n",
    "        plt.show()\n",
    "    plt.close()\n",
    "\n",
    "def plot_phase_space(theta, omega, save=False, show=True, imname=\"\"):\n",
    "    \"\"\"Grafica el espacio fase (theta vs omega).\"\"\"\n",
    "    plt.figure(figsize=(8, 6))\n",
    "    plt.plot(theta, omega, label=r\"$\\theta$ vs $\\omega$\", color=\"blue\")\n",
    "    plt.xlabel(r\"$\\theta$ (rad)\")\n",
    "    plt.ylabel(r\"$\\omega$ (rad/s)\")\n",
    "    plt.title(\"Phase Space: θ vs ω\")\n",
    "    plt.grid()\n",
    "    plt.legend()\n",
    "\n",
    "    if save:\n",
    "        plt.savefig(f\"plots/phase_space{imname}.png\", dpi=300)\n",
    "    if show:\n",
    "        plt.show()\n",
    "    plt.close()\n",
    "\n",
    "def plot_energy_time(t, kin, pot, tot, save=False, show=True, imname=\"\"):\n",
    "    \"\"\"Grafica la evolución de la energía en el tiempo.\"\"\"\n",
    "    plt.figure(figsize=(8, 6))\n",
    "    plt.plot(t, kin, label=\"Kinetic Energy\", color=\"orange\")\n",
    "    plt.plot(t, pot, label=\"Potential Energy\", color=\"purple\")\n",
    "    plt.plot(t, tot, label=\"Total Energy\", color=\"black\", linestyle=\"dashed\")\n",
    "    plt.xlabel(\"Time (s)\")\n",
    "    plt.ylabel(\"Energy (J)\")\n",
    "    plt.title(\"System Energy\")\n",
    "    plt.grid()\n",
    "    plt.legend()\n",
    "\n",
    "    if save:\n",
    "        plt.savefig(f\"plots/energy_time{imname}.png\", dpi=300)\n",
    "    if show:\n",
    "        plt.show()\n",
    "    plt.close()\n"
   ]
  },
  {
   "cell_type": "code",
   "execution_count": 3,
   "metadata": {},
   "outputs": [],
   "source": [
    "def load_data(file_path=\"data/data.dat\"):\n",
    "    \"\"\"Carga los datos desde el archivo .dat\"\"\"\n",
    "    data = np.loadtxt(file_path, skiprows=1)\n",
    "    t, theta, omega, E_kin, E_pot, E_tot = data.T\n",
    "    return t, theta, omega, E_kin, E_pot, E_tot"
   ]
  },
  {
   "cell_type": "code",
   "execution_count": 4,
   "metadata": {},
   "outputs": [],
   "source": [
    "# System parameters\n",
    "mass = 1\n",
    "length = 1\n",
    "\n",
    "# Simulation parameters\n",
    "dt = 0.01\n",
    "t_max = 10.0\n",
    "theta0 = np.pi / 3\n",
    "omega0 = 0.3"
   ]
  },
  {
   "cell_type": "markdown",
   "metadata": {},
   "source": [
    "# Péndulo simple\n",
    "\n",
    "## Solución Analítica\n",
    "El péndulo simple es un sistema mecánico que consiste en una masa puntual suspendida de un hilo inextensible y sin masa que oscila bajo la influencia de la gravedad. Su ecuación de movimiento se deriva de la segunda ley de Newton o de la ecuación de Euler-Lagrange.\n",
    "\n",
    "### Ecuación de Movimiento\n",
    "\n",
    "La ecuación de movimiento para el péndulo simple se obtiene aplicando la segunda ley de Newton en coordenadas angulares:\n",
    "\n",
    "$$ m l \\frac{d^2\\theta}{dt^2} = -mg \\sin\\theta $$\n",
    "\n",
    "Dividiendo por \\( ml \\), se obtiene la ecuación diferencial:\n",
    "\n",
    "$$ \\frac{d^2\\theta}{dt^2} + \\frac{g}{l} \\sin\\theta = 0 $$\n",
    "\n",
    "Donde:\n",
    "- $\\theta$ es el ángulo de oscilación respecto a la vertical.\n",
    "- $g$ es la aceleración gravitacional.\n",
    "- $l$ es la longitud del péndulo.\n",
    "- $m$ es la masa del péndulo.\n",
    "\n",
    "### Conversión a un Sistema de Primer Orden\n",
    "\n",
    "Para resolver la ecuación diferencial numéricamente, la convertimos en un sistema de primer orden definiendo:\n",
    "\n",
    "$$ \\omega = \\frac{d\\theta}{dt} $$\n",
    "\n",
    "Entonces, la ecuación de segundo orden se reescribe como el siguiente sistema de ecuaciones de primer orden:\n",
    "\n",
    "$$\\frac{d\\theta}{dt} = \\omega $$\n",
    "$$ \\frac{d\\omega}{dt} = -\\frac{g}{l} \\sin\\theta $$\n",
    "\n",
    "Este sistema es adecuado para ser resuelto mediante métodos numéricos como Runge-Kutta de cuarto orden.\n",
    "\n"
   ]
  },
  {
   "cell_type": "code",
   "execution_count": 5,
   "metadata": {},
   "outputs": [],
   "source": [
    "from simple_pendulum import SimplePendulum, Simulator"
   ]
  },
  {
   "cell_type": "code",
   "execution_count": 6,
   "metadata": {},
   "outputs": [
    {
     "name": "stdout",
     "output_type": "stream",
     "text": [
      "Simulación completada. Datos guardados en data/simple_pendulum.dat\n"
     ]
    }
   ],
   "source": [
    "# Data generation\n",
    "simple_pendulum = SimplePendulum(mass, length, theta0, omega0)\n",
    "filename = \"simple_pendulum\"\n",
    "\n",
    "sp_simulator = Simulator(simple_pendulum, filename)\n",
    "sp_simulator.simulate(t_max=t_max, dt=dt)"
   ]
  },
  {
   "cell_type": "code",
   "execution_count": 9,
   "metadata": {},
   "outputs": [],
   "source": [
    "t, theta, omega, E_kin, E_pot, E_tot = load_data(file_path=f\"data/{filename}.dat\")"
   ]
  },
  {
   "cell_type": "code",
   "execution_count": 14,
   "metadata": {},
   "outputs": [],
   "source": [
    "plot_trajectory(theta, omega, L=length, save=True, show=False, imname=f\"trajectory_{filename}\")\n",
    "plot_phase_space(theta, omega, save=True, show=False, imname=f\"phase_space_{filename}\")\n",
    "plot_energy_time(t, E_kin, E_pot, E_tot, save=True, show=False, imname=f\"energy_{filename}\")"
   ]
  },
  {
   "cell_type": "code",
   "execution_count": 18,
   "metadata": {},
   "outputs": [
    {
     "name": "stderr",
     "output_type": "stream",
     "text": [
      "c:\\Users\\isaul\\Documents\\python\\computational_physics\\pendulums\\animator.py:62: UserWarning: frames=<bound method Animator.advance_time_step of <animator.Animator object at 0x0000011DFB653470>> which we can infer the length of, did not pass an explicit *save_count* and passed cache_frame_data=True.  To avoid a possibly unbounded cache, frame data caching has been disabled. To suppress this warning either pass `cache_frame_data=False` or `save_count=MAX_FRAMES`.\n",
      "  self.animation = animation.FuncAnimation(\n"
     ]
    },
    {
     "data": {
      "image/png": "[encoded data removed]",
      "text/plain": [
       "<Figure size 640x480 with 1 Axes>"
      ]
     },
     "metadata": {},
     "output_type": "display_data"
    }
   ],
   "source": [
    "from animator import Animator\n",
    "animator = Animator(t, theta, draw_trace=False)\n",
    "animator.animate()\n",
    "animator.save_animation(filename=f\"{filename}.gif\")"
   ]
  },
  {
   "cell_type": "markdown",
   "metadata": {},
   "source": [
    "### Análisis de resultados: Péndulo Simple "
   ]
  },
  {
   "cell_type": "markdown",
   "metadata": {},
   "source": [
    "# Péndulo forzado"
   ]
  },
  {
   "cell_type": "markdown",
   "metadata": {},
   "source": [
    "### Análisis de resultados: Péndulo forzado "
   ]
  },
  {
   "cell_type": "markdown",
   "metadata": {},
   "source": [
    "# Péndulo amortiguado"
   ]
  },
  {
   "cell_type": "markdown",
   "metadata": {},
   "source": [
    "### Análisis de resultados: Péndulo Amortiguado"
   ]
  },
  {
   "cell_type": "markdown",
   "metadata": {},
   "source": [
    "# Péndulo elástico"
   ]
  },
  {
   "cell_type": "markdown",
   "metadata": {},
   "source": [
    "### Análisis de resultados: Péndulo Elástico "
   ]
  }
 ],
 "metadata": {
  "kernelspec": {
   "display_name": "Python (virt_imp)",
   "language": "python",
   "name": "virt_imp"
  },
  "language_info": {
   "codemirror_mode": {
    "name": "ipython",
    "version": 3
   },
   "file_extension": ".py",
   "mimetype": "text/x-python",
   "name": "python",
   "nbconvert_exporter": "python",
   "pygments_lexer": "ipython3",
   "version": "3.12.4"
  }
 },
 "nbformat": 4,
 "nbformat_minor": 2
}
